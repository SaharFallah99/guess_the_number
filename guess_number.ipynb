{
  "nbformat": 4,
  "nbformat_minor": 0,
  "metadata": {
    "colab": {
      "provenance": [],
      "authorship_tag": "ABX9TyPzAxySCSS0PKrRd2htz2It",
      "include_colab_link": true
    },
    "kernelspec": {
      "name": "python3",
      "display_name": "Python 3"
    },
    "language_info": {
      "name": "python"
    }
  },
  "cells": [
    {
      "cell_type": "markdown",
      "metadata": {
        "id": "view-in-github",
        "colab_type": "text"
      },
      "source": [
        "<a href=\"https://colab.research.google.com/github/SaharFallah99/guess_the_number/blob/main/guess_number.ipynb\" target=\"_parent\"><img src=\"https://colab.research.google.com/assets/colab-badge.svg\" alt=\"Open In Colab\"/></a>"
      ]
    },
    {
      "cell_type": "code",
      "execution_count": 1,
      "metadata": {
        "colab": {
          "base_uri": "https://localhost:8080/"
        },
        "id": "lBXjHWV6oXy0",
        "outputId": "a160546e-7770-4810-b011-b495f24dc8b6"
      },
      "outputs": [
        {
          "output_type": "stream",
          "name": "stdout",
          "text": [
            "Guess the number between 1 and 20.\n",
            "Note that you can only choose three times.\n",
            "Guess number:2\n",
            "Wrong. You have 2 other choices.\n",
            "Guess number:13\n",
            "Wrong. You have 1 other choices.\n",
            "Guess number:10\n",
            "Your choices are over.\n"
          ]
        }
      ],
      "source": [
        "from random import randint\n",
        "number=randint(1,20)\n",
        "n=3\n",
        "print('Guess the number between 1 and 20.\\nNote that you can only choose three times.')\n",
        "for i in range(3):\n",
        "  guess_number=int(input('Guess number:'))\n",
        "  if 1>guess_number or guess_number>20:\n",
        "    print('Your guess number is out of range.')\n",
        "  else:\n",
        "    if guess_number==number:\n",
        "      print('!!!Yes!!!')\n",
        "      break\n",
        "    elif guess_number!=number:\n",
        "      n-=1\n",
        "      if n>0:\n",
        "         print(f'Wrong. You have {n} other choices.')\n",
        "      elif n==0:\n",
        "         print(f'Your choices are over.')\n"
      ]
    },
    {
      "cell_type": "code",
      "source": [],
      "metadata": {
        "id": "j3Q1ppWsoZgE"
      },
      "execution_count": null,
      "outputs": []
    }
  ]
}